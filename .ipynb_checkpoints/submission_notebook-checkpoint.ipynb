{
 "cells": [
  {
   "cell_type": "markdown",
   "metadata": {},
   "source": [
    "## Use stacked images (3D) and Efficientnet3D model\n",
    "\n",
    "Acknowledgements:\n",
    "\n",
    "- https://www.kaggle.com/ihelon/brain-tumor-eda-with-animations-and-modeling\n",
    "- https://www.kaggle.com/furcifer/torch-efficientnet3d-for-mri-no-train\n",
    "- https://github.com/shijianjian/EfficientNet-PyTorch-3D\n",
    "    \n",
    "    \n",
    "Use models with only one MRI type, then ensemble the 4 models \n",
    "\n",
    "V14: add image rotation augmentation"
   ]
  },
  {
   "cell_type": "code",
   "execution_count": 1,
   "metadata": {
    "papermill": {
     "duration": 1.048295,
     "end_time": "2021-07-14T20:26:46.309722",
     "exception": false,
     "start_time": "2021-07-14T20:26:45.261427",
     "status": "completed"
    },
    "tags": []
   },
   "outputs": [],
   "source": [
    "import os\n",
    "import sys \n",
    "import json\n",
    "import glob\n",
    "import random\n",
    "import collections\n",
    "import time\n",
    "import re\n",
    "\n",
    "import numpy as np\n",
    "import pandas as pd\n",
    "import pydicom\n",
    "from pydicom.pixel_data_handlers.util import apply_voi_lut\n",
    "import cv2\n",
    "import matplotlib.pyplot as plt\n",
    "import seaborn as sns\n",
    "\n",
    "import torch\n",
    "from torch import nn\n",
    "from torch.utils import data as torch_data\n",
    "from sklearn import model_selection as sk_model_selection\n",
    "from torch.nn import functional as torch_functional\n",
    "import torch.nn.functional as F\n",
    "\n",
    "from sklearn.model_selection import StratifiedKFold\n",
    "from sklearn.metrics import roc_auc_score"
   ]
  },
  {
   "cell_type": "code",
   "execution_count": 2,
   "metadata": {
    "lines_to_end_of_cell_marker": 2,
    "lines_to_next_cell": 2,
    "papermill": {
     "duration": 0.05565,
     "end_time": "2021-07-14T20:26:46.486521",
     "exception": false,
     "start_time": "2021-07-14T20:26:46.430871",
     "status": "completed"
    },
    "tags": []
   },
   "outputs": [],
   "source": [
    "if os.path.exists(\"../input/rsna-miccai-brain-tumor-radiogenomic-classification\"):\n",
    "    data_directory = '../input/rsna-miccai-brain-tumor-radiogenomic-classification'\n",
    "    pytorch3dpath = \"../input/efficientnetpyttorch3d/EfficientNet-PyTorch-3D\"\n",
    "    sys.path.append(pytorch3dpath)\n",
    "else:\n",
    "    data_directory = '/Genomic_Data_Storage/Brain_Tumor_Radiogenomic_Classification/'\n",
    "    \n",
    "mri_types = ['FLAIR','T1w','T1wCE','T2w']\n",
    "SIZE = 256\n",
    "NUM_IMAGES = 64\n",
    "\n",
    "from efficientnet_pytorch_3d import EfficientNet3D"
   ]
  },
  {
   "cell_type": "markdown",
   "metadata": {},
   "source": [
    "## Functions to load images"
   ]
  },
  {
   "cell_type": "code",
   "execution_count": 3,
   "metadata": {
    "papermill": {
     "duration": 0.035761,
     "end_time": "2021-07-14T20:26:46.726756",
     "exception": false,
     "start_time": "2021-07-14T20:26:46.690995",
     "status": "completed"
    },
    "tags": []
   },
   "outputs": [
    {
     "name": "stdout",
     "output_type": "stream",
     "text": [
      "(1, 256, 256, 64)\n",
      "0.0 1.0 0.07902179328632788 0.00023671822699371212\n"
     ]
    }
   ],
   "source": [
    "def load_dicom_image(path, img_size=SIZE, voi_lut=True, rotate=0):\n",
    "    dicom = pydicom.read_file(path)\n",
    "    data = dicom.pixel_array\n",
    "    if voi_lut:\n",
    "        data = apply_voi_lut(dicom.pixel_array, dicom)\n",
    "    else:\n",
    "        data = dicom.pixel_array\n",
    "        \n",
    "    if rotate > 0:\n",
    "        rot_choices = [0, cv2.ROTATE_90_CLOCKWISE, cv2.ROTATE_90_COUNTERCLOCKWISE, cv2.ROTATE_180]\n",
    "        data = cv2.rotate(data, rot_choices[rotate])\n",
    "        \n",
    "    data = cv2.resize(data, (img_size, img_size))\n",
    "    return data\n",
    "\n",
    "\n",
    "def load_dicom_images_3d(scan_id, num_imgs=NUM_IMAGES, img_size=SIZE, mri_type=\"FLAIR\", split=\"train\", rotate=0):\n",
    "\n",
    "    files = sorted(glob.glob(f\"{data_directory}/{split}/{scan_id}/{mri_type}/*.dcm\"), \n",
    "               key=lambda var:[int(x) if x.isdigit() else x for x in re.findall(r'[^0-9]|[0-9]+', var)])\n",
    "\n",
    "    middle = len(files)//2\n",
    "    num_imgs2 = num_imgs//2\n",
    "    p1 = max(0, middle - num_imgs2)\n",
    "    p2 = min(len(files), middle + num_imgs2)\n",
    "    img3d = np.stack([load_dicom_image(f, rotate=rotate) for f in files[p1:p2]]).T \n",
    "    if img3d.shape[-1] < num_imgs:\n",
    "        n_zero = np.zeros((img_size, img_size, num_imgs - img3d.shape[-1]))\n",
    "        img3d = np.concatenate((img3d,  n_zero), axis = -1)\n",
    "        \n",
    "    if np.min(img3d) < np.max(img3d):\n",
    "        img3d = img3d - np.min(img3d)\n",
    "        img3d = img3d / np.max(img3d)\n",
    "            \n",
    "    return np.expand_dims(img3d,0)\n",
    "\n",
    "a = load_dicom_images_3d(\"00000\")\n",
    "print(a.shape)\n",
    "print(np.min(a), np.max(a), np.mean(a), np.median(a))"
   ]
  },
  {
   "cell_type": "code",
   "execution_count": 4,
   "metadata": {
    "papermill": {
     "duration": 0.668331,
     "end_time": "2021-07-14T20:27:48.114522",
     "exception": false,
     "start_time": "2021-07-14T20:27:47.446191",
     "status": "completed"
    },
    "tags": []
   },
   "outputs": [],
   "source": [
    "def set_seed(seed):\n",
    "    random.seed(seed)\n",
    "    os.environ[\"PYTHONHASHSEED\"] = str(seed)\n",
    "    np.random.seed(seed)\n",
    "    torch.manual_seed(seed)\n",
    "    if torch.cuda.is_available():\n",
    "        torch.cuda.manual_seed_all(seed)\n",
    "        torch.backends.cudnn.deterministic = True\n",
    "\n",
    "set_seed(12)"
   ]
  },
  {
   "cell_type": "markdown",
   "metadata": {},
   "source": [
    "## Model and training classes"
   ]
  },
  {
   "cell_type": "code",
   "execution_count": 7,
   "metadata": {
    "papermill": {
     "duration": 0.634322,
     "end_time": "2021-07-14T20:27:50.594701",
     "exception": false,
     "start_time": "2021-07-14T20:27:49.960379",
     "status": "completed"
    },
    "tags": []
   },
   "outputs": [],
   "source": [
    "class Dataset(torch_data.Dataset):\n",
    "    def __init__(self, paths, targets=None, mri_type=None, label_smoothing=0.01, split=\"train\", augment=False):\n",
    "        self.paths = paths\n",
    "        self.targets = targets\n",
    "        self.mri_type = mri_type\n",
    "        self.label_smoothing = label_smoothing\n",
    "        self.split = split\n",
    "        self.augment = augment\n",
    "          \n",
    "    def __len__(self):\n",
    "        return len(self.paths)\n",
    "    \n",
    "    def __getitem__(self, index):\n",
    "        scan_id = self.paths[index]\n",
    "        if self.targets is None:\n",
    "            data = load_dicom_images_3d(str(scan_id).zfill(5), mri_type=self.mri_type[index], split=self.split)\n",
    "        else:\n",
    "            if self.augment:\n",
    "                rotation = np.random.randint(0,4)\n",
    "            else:\n",
    "                rotation = 0\n",
    "\n",
    "            data = load_dicom_images_3d(str(scan_id).zfill(5), mri_type=self.mri_type[index], split=\"train\", rotate=rotation)\n",
    "\n",
    "        if self.targets is None:\n",
    "            return {\"X\": torch.tensor(data).float(), \"id\": scan_id}\n",
    "        else:\n",
    "            y = torch.tensor(abs(self.targets[index]-self.label_smoothing), dtype=torch.float)\n",
    "            return {\"X\": torch.tensor(data).float(), \"y\": y}\n"
   ]
  },
  {
   "cell_type": "code",
   "execution_count": 8,
   "metadata": {
    "papermill": {
     "duration": 0.825458,
     "end_time": "2021-07-14T20:27:55.604161",
     "exception": false,
     "start_time": "2021-07-14T20:27:54.778703",
     "status": "completed"
    },
    "tags": []
   },
   "outputs": [],
   "source": [
    "class Model(nn.Module):\n",
    "    def __init__(self):\n",
    "        super().__init__()\n",
    "        self.net = EfficientNet3D.from_name(\"efficientnet-b0\", override_params={'num_classes': 2}, in_channels=1)\n",
    "        n_features = self.net._fc.in_features\n",
    "        self.net._fc = nn.Linear(in_features=n_features, out_features=1, bias=True)\n",
    "    \n",
    "    def forward(self, x):\n",
    "        out = self.net(x)\n",
    "        return out\n",
    "    "
   ]
  },
  {
   "cell_type": "code",
   "execution_count": 15,
   "metadata": {
    "lines_to_next_cell": 2,
    "papermill": {
     "duration": 447.387602,
     "end_time": "2021-07-14T20:35:26.110421",
     "exception": false,
     "start_time": "2021-07-14T20:27:58.722819",
     "status": "completed"
    },
    "tags": []
   },
   "outputs": [],
   "source": [
    "device = torch.device(\"cuda\" if torch.cuda.is_available() else \"cpu\")\n",
    "\n",
    "modelfiles = ['FLAIR-e6-loss0.691-auc0.580.pth', 'T1w-e7-loss0.689-auc0.541.pth', 'T1wCE-e3-loss0.693-auc0.389.pth', 'T2w-e3-loss0.693-auc0.554.pth']"
   ]
  },
  {
   "cell_type": "markdown",
   "metadata": {},
   "source": [
    "## Predict function"
   ]
  },
  {
   "cell_type": "code",
   "execution_count": 16,
   "metadata": {
    "papermill": {
     "duration": 0.990911,
     "end_time": "2021-07-14T20:35:30.482254",
     "exception": false,
     "start_time": "2021-07-14T20:35:29.491343",
     "status": "completed"
    },
    "tags": []
   },
   "outputs": [],
   "source": [
    "def predict(modelfile, df, mri_type, split):\n",
    "    print(\"Predict:\", modelfile, mri_type, df.shape)\n",
    "    df.loc[:,\"MRI_Type\"] = mri_type\n",
    "    data_retriever = Dataset(\n",
    "        df.index.values, \n",
    "        mri_type=df[\"MRI_Type\"].values,\n",
    "        split=split\n",
    "    )\n",
    "\n",
    "    data_loader = torch_data.DataLoader(\n",
    "        data_retriever,\n",
    "        batch_size=4,\n",
    "        shuffle=False,\n",
    "        num_workers=14,\n",
    "    )\n",
    "   \n",
    "    model = Model()\n",
    "    model.to(device)\n",
    "    \n",
    "    checkpoint = torch.load(modelfile)\n",
    "    model.load_state_dict(checkpoint[\"model_state_dict\"])\n",
    "    model.eval()\n",
    "    \n",
    "    y_pred = []\n",
    "    ids = []\n",
    "\n",
    "    for e, batch in enumerate(data_loader,1):\n",
    "        print(f\"{e}/{len(data_loader)}\", end=\"\\r\")\n",
    "        with torch.no_grad():\n",
    "            tmp_pred = torch.sigmoid(model(batch[\"X\"].to(device))).cpu().numpy().squeeze()\n",
    "            if tmp_pred.size == 1:\n",
    "                y_pred.append(tmp_pred)\n",
    "            else:\n",
    "                y_pred.extend(tmp_pred.tolist())\n",
    "            ids.extend(batch[\"id\"].numpy().tolist())\n",
    "            \n",
    "    preddf = pd.DataFrame({\"BraTS21ID\": ids, \"MGMT_value\": y_pred}) \n",
    "    preddf = preddf.set_index(\"BraTS21ID\")\n",
    "    return preddf"
   ]
  },
  {
   "cell_type": "markdown",
   "metadata": {},
   "source": [
    "## Ensemble for validation"
   ]
  },
  {
   "cell_type": "code",
   "execution_count": 12,
   "metadata": {},
   "outputs": [
    {
     "name": "stdout",
     "output_type": "stream",
     "text": [
      "Predict: FLAIR-e6-loss0.691-auc0.580.pth FLAIR (117, 3)\n",
      "Predict: T1w-e7-loss0.689-auc0.541.pth T1w (117, 3)\n",
      "Predict: T1wCE-e3-loss0.693-auc0.389.pth T1wCE (117, 3)\n",
      "Predict: T2w-e3-loss0.693-auc0.554.pth T2w (117, 3)\n",
      "Validation ensemble AUC: 0.5583\n"
     ]
    },
    {
     "data": {
      "text/plain": [
       "<seaborn.axisgrid.FacetGrid at 0x7f43709e8370>"
      ]
     },
     "execution_count": 12,
     "metadata": {},
     "output_type": "execute_result"
    }
   ],
   "source": [
    "df_valid = df_valid.set_index(\"BraTS21ID\")\n",
    "df_valid[\"MGMT_pred\"] = 0\n",
    "for m, mtype in zip(modelfiles,  mri_types):\n",
    "    pred = predict(m, df_valid, mtype, \"train\")\n",
    "    df_valid[\"MGMT_pred\"] += pred[\"MGMT_value\"]\n",
    "df_valid[\"MGMT_pred\"] /= len(modelfiles)\n",
    "auc = roc_auc_score(df_valid[\"MGMT_value\"], df_valid[\"MGMT_pred\"])\n",
    "print(f\"Validation ensemble AUC: {auc:.4f}\")\n",
    "sns.displot(df_valid[\"MGMT_pred\"])"
   ]
  },
  {
   "cell_type": "markdown",
   "metadata": {},
   "source": [
    "## Ensemble for submission"
   ]
  },
  {
   "cell_type": "code",
   "execution_count": 13,
   "metadata": {
    "papermill": {
     "duration": 0.990911,
     "end_time": "2021-07-14T20:35:30.482254",
     "exception": false,
     "start_time": "2021-07-14T20:35:29.491343",
     "status": "completed"
    },
    "tags": []
   },
   "outputs": [
    {
     "name": "stdout",
     "output_type": "stream",
     "text": [
      "Predict: FLAIR-e6-loss0.691-auc0.580.pth FLAIR (87, 1)\n",
      "Predict: T1w-e7-loss0.689-auc0.541.pth T1w (87, 2)\n",
      "Predict: T1wCE-e3-loss0.693-auc0.389.pth T1wCE (87, 2)\n",
      "Predict: T2w-e3-loss0.693-auc0.554.pth T2w (87, 2)\n",
      "22/22\r"
     ]
    }
   ],
   "source": [
    "submission = pd.read_csv(f\"{data_directory}/sample_submission.csv\", index_col=\"BraTS21ID\")\n",
    "\n",
    "submission[\"MGMT_value\"] = 0\n",
    "for m, mtype in zip(modelfiles, mri_types):\n",
    "    pred = predict(m, submission, mtype, split=\"test\")\n",
    "    submission[\"MGMT_value\"] += pred[\"MGMT_value\"]\n",
    "\n",
    "submission[\"MGMT_value\"] /= len(modelfiles)\n",
    "submission[\"MGMT_value\"].to_csv(\"submission.csv\")"
   ]
  },
  {
   "cell_type": "code",
   "execution_count": 14,
   "metadata": {
    "papermill": {
     "duration": 0.972383,
     "end_time": "2021-07-14T20:35:41.939464",
     "exception": false,
     "start_time": "2021-07-14T20:35:40.967081",
     "status": "completed"
    },
    "tags": []
   },
   "outputs": [
    {
     "data": {
      "text/html": [
       "<div>\n",
       "<style scoped>\n",
       "    .dataframe tbody tr th:only-of-type {\n",
       "        vertical-align: middle;\n",
       "    }\n",
       "\n",
       "    .dataframe tbody tr th {\n",
       "        vertical-align: top;\n",
       "    }\n",
       "\n",
       "    .dataframe thead th {\n",
       "        text-align: right;\n",
       "    }\n",
       "</style>\n",
       "<table border=\"1\" class=\"dataframe\">\n",
       "  <thead>\n",
       "    <tr style=\"text-align: right;\">\n",
       "      <th></th>\n",
       "      <th>MGMT_value</th>\n",
       "      <th>MRI_Type</th>\n",
       "    </tr>\n",
       "    <tr>\n",
       "      <th>BraTS21ID</th>\n",
       "      <th></th>\n",
       "      <th></th>\n",
       "    </tr>\n",
       "  </thead>\n",
       "  <tbody>\n",
       "    <tr>\n",
       "      <th>1</th>\n",
       "      <td>0.504465</td>\n",
       "      <td>T2w</td>\n",
       "    </tr>\n",
       "    <tr>\n",
       "      <th>13</th>\n",
       "      <td>0.502866</td>\n",
       "      <td>T2w</td>\n",
       "    </tr>\n",
       "    <tr>\n",
       "      <th>15</th>\n",
       "      <td>0.505381</td>\n",
       "      <td>T2w</td>\n",
       "    </tr>\n",
       "    <tr>\n",
       "      <th>27</th>\n",
       "      <td>0.514133</td>\n",
       "      <td>T2w</td>\n",
       "    </tr>\n",
       "    <tr>\n",
       "      <th>37</th>\n",
       "      <td>0.507514</td>\n",
       "      <td>T2w</td>\n",
       "    </tr>\n",
       "    <tr>\n",
       "      <th>...</th>\n",
       "      <td>...</td>\n",
       "      <td>...</td>\n",
       "    </tr>\n",
       "    <tr>\n",
       "      <th>826</th>\n",
       "      <td>0.510591</td>\n",
       "      <td>T2w</td>\n",
       "    </tr>\n",
       "    <tr>\n",
       "      <th>829</th>\n",
       "      <td>0.566281</td>\n",
       "      <td>T2w</td>\n",
       "    </tr>\n",
       "    <tr>\n",
       "      <th>833</th>\n",
       "      <td>0.509640</td>\n",
       "      <td>T2w</td>\n",
       "    </tr>\n",
       "    <tr>\n",
       "      <th>997</th>\n",
       "      <td>0.512863</td>\n",
       "      <td>T2w</td>\n",
       "    </tr>\n",
       "    <tr>\n",
       "      <th>1006</th>\n",
       "      <td>0.510254</td>\n",
       "      <td>T2w</td>\n",
       "    </tr>\n",
       "  </tbody>\n",
       "</table>\n",
       "<p>87 rows × 2 columns</p>\n",
       "</div>"
      ],
      "text/plain": [
       "           MGMT_value MRI_Type\n",
       "BraTS21ID                     \n",
       "1            0.504465      T2w\n",
       "13           0.502866      T2w\n",
       "15           0.505381      T2w\n",
       "27           0.514133      T2w\n",
       "37           0.507514      T2w\n",
       "...               ...      ...\n",
       "826          0.510591      T2w\n",
       "829          0.566281      T2w\n",
       "833          0.509640      T2w\n",
       "997          0.512863      T2w\n",
       "1006         0.510254      T2w\n",
       "\n",
       "[87 rows x 2 columns]"
      ]
     },
     "execution_count": 14,
     "metadata": {},
     "output_type": "execute_result"
    }
   ],
   "source": [
    "submission"
   ]
  },
  {
   "cell_type": "code",
   "execution_count": null,
   "metadata": {},
   "outputs": [],
   "source": [
    "sns.displot(submission[\"MGMT_value\"])"
   ]
  },
  {
   "cell_type": "code",
   "execution_count": null,
   "metadata": {},
   "outputs": [],
   "source": []
  }
 ],
 "metadata": {
  "kernelspec": {
   "display_name": "pytorch",
   "language": "python",
   "name": "pytorch"
  },
  "language_info": {
   "codemirror_mode": {
    "name": "ipython",
    "version": 3
   },
   "file_extension": ".py",
   "mimetype": "text/x-python",
   "name": "python",
   "nbconvert_exporter": "python",
   "pygments_lexer": "ipython3",
   "version": "3.8.11"
  }
 },
 "nbformat": 4,
 "nbformat_minor": 4
}
